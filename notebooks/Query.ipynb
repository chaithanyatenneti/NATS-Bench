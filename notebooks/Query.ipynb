{
 "cells": [
  {
   "cell_type": "markdown",
   "metadata": {},
   "source": [
    "Create a benchmark instance"
   ]
  },
  {
   "cell_type": "code",
   "execution_count": 24,
   "metadata": {},
   "outputs": [
    {
     "name": "stdout",
     "output_type": "stream",
     "text": [
      "[2022-12-08 18:26:08] Try to create the NATS-Bench (topology) api from /work/ws-tmp/g051463-tenneti_NAS/data/NATS-tss-v1_0-3ffb9-full/ with fast_mode=True\n",
      "[2022-12-08 18:26:08] Create NATS-Bench (topology) done with 0/15625 architectures avaliable.\n",
      "\n",
      "API create done: NATStopology(0/15625 architectures, fast_mode=True, file=)\n",
      "\n"
     ]
    }
   ],
   "source": [
    "import random\n",
    "import numpy as np\n",
    "from nats_bench import create\n",
    "from pprint import pprint\n",
    "\n",
    "# Create the API instance for the size search space in NATS\n",
    "# api = create(None, 'sss', fast_mode=True, verbose=True)\n",
    "# print('\\nAPI create done: {:}\\n'.format(api))\n",
    "\n",
    "# Create the API instance for the topology search space in NATS\n",
    "api = create('/work/ws-tmp/g051463-tenneti_NAS/data/NATS-tss-v1_0-3ffb9-full/', 'tss', fast_mode=True, verbose=True)\n",
    "print('\\nAPI create done: {:}\\n'.format(api))"
   ]
  },
  {
   "cell_type": "markdown",
   "metadata": {},
   "source": [
    "Get more info for an architecture(index), dataset, hp(12)\n"
   ]
  },
  {
   "cell_type": "code",
   "execution_count": 25,
   "metadata": {},
   "outputs": [
    {
     "name": "stdout",
     "output_type": "stream",
     "text": [
      "[2022-12-08 18:26:11] Call the get_more_info function with index=1000, dataset=cifar100, iepoch=None, hp=12, and is_random=True.\n",
      "[2022-12-08 18:26:11] Call query_index_by_arch with arch=1000\n",
      "[2022-12-08 18:26:11] Call clear_params with archive_root=/work/ws-tmp/g051463-tenneti_NAS/data/NATS-tss-v1_0-3ffb9-full/ and index=1000\n",
      "{'test-accuracy': 58.30000002441406,\n",
      " 'test-all-time': 7.9043262004852295,\n",
      " 'test-loss': 1.4708942895889283,\n",
      " 'test-per-time': 0.6586938500404358,\n",
      " 'train-accuracy': 63.73,\n",
      " 'train-all-time': 229.09286308288577,\n",
      " 'train-loss': 1.2646459322738648,\n",
      " 'train-per-time': 19.091071923573814,\n",
      " 'valid-accuracy': 58.49999993896484,\n",
      " 'valid-all-time': 7.9043262004852295,\n",
      " 'valid-loss': 1.4571917526245117,\n",
      " 'valid-per-time': 0.6586938500404358,\n",
      " 'valtest-accuracy': 58.4,\n",
      " 'valtest-all-time': 15.808652400970459,\n",
      " 'valtest-loss': 1.4640430240631104,\n",
      " 'valtest-per-time': 1.3173877000808716}\n"
     ]
    }
   ],
   "source": [
    "info = api.get_more_info(1000, 'cifar100', hp= '12')\n",
    "pprint(info)"
   ]
  },
  {
   "cell_type": "markdown",
   "metadata": {},
   "source": [
    "Get more info for an architecture(index), dataset, hp(200)\n"
   ]
  },
  {
   "cell_type": "code",
   "execution_count": 26,
   "metadata": {},
   "outputs": [
    {
     "name": "stdout",
     "output_type": "stream",
     "text": [
      "[2022-12-08 18:26:17] Call the get_more_info function with index=1000, dataset=cifar100, iepoch=None, hp=200, and is_random=True.\n",
      "[2022-12-08 18:26:17] Call query_index_by_arch with arch=1000\n",
      "[2022-12-08 18:26:17] Call _prepare_info with index=1000 skip because it is in arch2infos_dict\n",
      "{'test-accuracy': 70.95999998779297,\n",
      " 'test-all-time': 131.73877000808716,\n",
      " 'test-loss': 1.298605860710144,\n",
      " 'test-per-time': 0.6586938500404358,\n",
      " 'train-accuracy': 99.01,\n",
      " 'train-all-time': 3818.214384714773,\n",
      " 'train-loss': 0.06714567622184753,\n",
      " 'train-per-time': 19.091071923573864,\n",
      " 'valid-accuracy': 70.48000004882813,\n",
      " 'valid-all-time': 131.73877000808716,\n",
      " 'valid-loss': 1.3325075481414794,\n",
      " 'valid-per-time': 0.6586938500404358,\n",
      " 'valtest-accuracy': 70.72,\n",
      " 'valtest-all-time': 263.4775400161743,\n",
      " 'valtest-loss': 1.3155567991256714,\n",
      " 'valtest-per-time': 1.3173877000808716}\n"
     ]
    }
   ],
   "source": [
    "info = api.get_more_info(1000, 'cifar100', hp= '200')\n",
    "pprint(info)"
   ]
  },
  {
   "cell_type": "markdown",
   "metadata": {},
   "source": [
    "Query flops, latency, params"
   ]
  },
  {
   "cell_type": "code",
   "execution_count": 27,
   "metadata": {},
   "outputs": [
    {
     "name": "stdout",
     "output_type": "stream",
     "text": [
      "[2022-12-08 18:26:20] Call the get_cost_info function with index=1000, dataset=cifar100, and hp=200.\n",
      "[2022-12-08 18:26:20] Call _prepare_info with index=1000 skip because it is in arch2infos_dict\n",
      "Call query_meta_info_by_index with arch_index=1000, hp=200\n",
      "[2022-12-08 18:26:20] Call _prepare_info with index=1000 skip because it is in arch2infos_dict\n",
      "{'T-ori-test@epoch': 1.3173877000808716,\n",
      " 'T-ori-test@total': 263.4775400161743,\n",
      " 'T-train@epoch': 19.091071923573864,\n",
      " 'T-train@total': 3818.214384714773,\n",
      " 'T-x-test@epoch': 0.6586938500404358,\n",
      " 'T-x-test@total': 131.73877000808716,\n",
      " 'T-x-valid@epoch': 0.6586938500404358,\n",
      " 'T-x-valid@total': 131.73877000808716,\n",
      " 'flops': 82.49994,\n",
      " 'latency': 0.015967020282038936,\n",
      " 'params': 0.593236}\n"
     ]
    }
   ],
   "source": [
    "info = api.get_cost_info(1000, 'cifar100', hp='200')\n",
    "pprint(info)"
   ]
  },
  {
   "cell_type": "code",
   "execution_count": 28,
   "metadata": {},
   "outputs": [
    {
     "name": "stdout",
     "output_type": "stream",
     "text": [
      "[2022-12-08 18:26:23] Call the get_more_info function with index=1000, dataset=cifar100, iepoch=None, hp=200, and is_random=True.\n",
      "[2022-12-08 18:26:23] Call query_index_by_arch with arch=1000\n",
      "[2022-12-08 18:26:23] Call _prepare_info with index=1000 skip because it is in arch2infos_dict\n",
      "{'test-accuracy': 71.35999987792968,\n",
      " 'test-all-time': 131.73877000808716,\n",
      " 'test-loss': 1.2987412797927858,\n",
      " 'test-per-time': 0.6586938500404358,\n",
      " 'train-accuracy': 99.016,\n",
      " 'train-all-time': 3818.214384714773,\n",
      " 'train-loss': 0.06475532060146331,\n",
      " 'train-per-time': 19.091071923573864,\n",
      " 'valid-accuracy': 69.90000002441407,\n",
      " 'valid-all-time': 131.73877000808716,\n",
      " 'valid-loss': 1.3786259037017823,\n",
      " 'valid-per-time': 0.6586938500404358,\n",
      " 'valtest-accuracy': 70.63,\n",
      " 'valtest-all-time': 263.4775400161743,\n",
      " 'valtest-loss': 1.3386835487365722,\n",
      " 'valtest-per-time': 1.3173877000808716}\n"
     ]
    }
   ],
   "source": [
    "info = api.get_more_info(1000, 'cifar100', hp= '200',is_random =True)\n",
    "pprint(info)"
   ]
  },
  {
   "cell_type": "code",
   "execution_count": 29,
   "metadata": {},
   "outputs": [
    {
     "name": "stdout",
     "output_type": "stream",
     "text": [
      "[2022-12-08 18:26:25] Call the get_more_info function with index=1000, dataset=cifar100, iepoch=None, hp=200, and is_random=False.\n",
      "[2022-12-08 18:26:25] Call query_index_by_arch with arch=1000\n",
      "[2022-12-08 18:26:25] Call _prepare_info with index=1000 skip because it is in arch2infos_dict\n",
      "{'test-accuracy': 70.96666660563152,\n",
      " 'test-all-time': 131.73877000808716,\n",
      " 'test-loss': 1.3002731030782064,\n",
      " 'test-per-time': 0.6586938500404358,\n",
      " 'train-accuracy': 99.04266666666668,\n",
      " 'train-all-time': 3818.214384714773,\n",
      " 'train-loss': 0.0656396304265658,\n",
      " 'train-per-time': 19.091071923573864,\n",
      " 'valid-accuracy': 70.1933333577474,\n",
      " 'valid-all-time': 131.73877000808716,\n",
      " 'valid-loss': 1.3364485109329223,\n",
      " 'valid-per-time': 0.6586938500404358,\n",
      " 'valtest-accuracy': 70.58,\n",
      " 'valtest-all-time': 263.4775400161743,\n",
      " 'valtest-loss': 1.31836080938975,\n",
      " 'valtest-per-time': 1.3173877000808716}\n"
     ]
    }
   ],
   "source": [
    "info = api.get_more_info(1000, 'cifar100', hp= '200',is_random =False)\n",
    "pprint(info)"
   ]
  },
  {
   "cell_type": "markdown",
   "metadata": {},
   "source": [
    "Find largest"
   ]
  },
  {
   "cell_type": "code",
   "execution_count": 30,
   "metadata": {},
   "outputs": [
    {
     "name": "stdout",
     "output_type": "stream",
     "text": [
      "[2022-12-08 18:26:28] Call query_index_by_arch with arch=|nor_conv_3x3~0|+|nor_conv_3x3~0|nor_conv_3x3~1|+|nor_conv_3x3~0|nor_conv_3x3~1|nor_conv_3x3~2|\n",
      "The architecture-index for the largest model is 1462\n",
      "Its performance on cifar10 with 12-epoch-training\n",
      "[2022-12-08 18:26:28] Call the get_more_info function with index=1462, dataset=cifar10, iepoch=None, hp=12, and is_random=False.\n",
      "[2022-12-08 18:26:28] Call query_index_by_arch with arch=1462\n",
      "[2022-12-08 18:26:28] Call clear_params with archive_root=/work/ws-tmp/g051463-tenneti_NAS/data/NATS-tss-v1_0-3ffb9-full/ and index=1462\n",
      "{'comment': 'In this dict, train-loss/accuracy/time is the metric on the '\n",
      "            'train+valid sets of CIFAR-10. The test-loss/accuracy/time is the '\n",
      "            'performance of the CIFAR-10 test set after training on the '\n",
      "            'train+valid sets by 12 epochs. The per-time and total-time '\n",
      "            'indicate the per epoch and total time costs, respectively.',\n",
      " 'test-accuracy': 82.2,\n",
      " 'test-all-time': 25.68491765430996,\n",
      " 'test-loss': 0.5235109260559082,\n",
      " 'test-per-time': 2.14040980452583,\n",
      " 'train-accuracy': 83.78,\n",
      " 'train-all-time': 415.2997846603394,\n",
      " 'train-loss': 0.4719834935951233,\n",
      " 'train-per-time': 34.60831538836162}\n",
      "Its performance on cifar10 with 200-epoch-training\n",
      "[2022-12-08 18:26:35] Call the get_more_info function with index=1462, dataset=cifar10, iepoch=None, hp=200, and is_random=False.\n",
      "[2022-12-08 18:26:35] Call query_index_by_arch with arch=1462\n",
      "[2022-12-08 18:26:35] Call _prepare_info with index=1462 skip because it is in arch2infos_dict\n",
      "{'comment': 'In this dict, train-loss/accuracy/time is the metric on the '\n",
      "            'train+valid sets of CIFAR-10. The test-loss/accuracy/time is the '\n",
      "            'performance of the CIFAR-10 test set after training on the '\n",
      "            'train+valid sets by 200 epochs. The per-time and total-time '\n",
      "            'indicate the per epoch and total time costs, respectively.',\n",
      " 'test-accuracy': 93.76,\n",
      " 'test-all-time': 428.08196090516384,\n",
      " 'test-loss': 0.29643801399866737,\n",
      " 'test-per-time': 2.1404098045258193,\n",
      " 'train-accuracy': 99.968,\n",
      " 'train-all-time': 6921.6630776723405,\n",
      " 'train-loss': 0.0021994023492435616,\n",
      " 'train-per-time': 34.6083153883617}\n",
      "Its performance on cifar100 with 12-epoch-training\n",
      "[2022-12-08 18:26:35] Call the get_more_info function with index=1462, dataset=cifar100, iepoch=None, hp=12, and is_random=False.\n",
      "[2022-12-08 18:26:35] Call query_index_by_arch with arch=1462\n",
      "[2022-12-08 18:26:35] Call _prepare_info with index=1462 skip because it is in arch2infos_dict\n",
      "{'test-accuracy': 44.97999995727539,\n",
      " 'test-all-time': 12.84245882715498,\n",
      " 'test-loss': 2.069740362548828,\n",
      " 'test-per-time': 1.070204902262915,\n",
      " 'train-accuracy': 46.014,\n",
      " 'train-all-time': 415.2997846603394,\n",
      " 'train-loss': 1.9952968555450439,\n",
      " 'train-per-time': 34.60831538836162,\n",
      " 'valid-accuracy': 44.05999992675781,\n",
      " 'valid-all-time': 12.84245882715498,\n",
      " 'valid-loss': 2.077388186645508,\n",
      " 'valid-per-time': 1.070204902262915,\n",
      " 'valtest-accuracy': 44.52,\n",
      " 'valtest-all-time': 25.68491765430996,\n",
      " 'valtest-loss': 2.073564303588867,\n",
      " 'valtest-per-time': 2.14040980452583}\n",
      "Its performance on cifar100 with 200-epoch-training\n",
      "[2022-12-08 18:26:35] Call the get_more_info function with index=1462, dataset=cifar100, iepoch=None, hp=200, and is_random=False.\n",
      "[2022-12-08 18:26:35] Call query_index_by_arch with arch=1462\n",
      "[2022-12-08 18:26:35] Call _prepare_info with index=1462 skip because it is in arch2infos_dict\n",
      "{'test-accuracy': 71.10666660563152,\n",
      " 'test-all-time': 214.04098045258192,\n",
      " 'test-loss': 1.3540414614995322,\n",
      " 'test-per-time': 1.0702049022629097,\n",
      " 'train-accuracy': 99.79133333333334,\n",
      " 'train-all-time': 6921.6630776723405,\n",
      " 'train-loss': 0.02413411712328593,\n",
      " 'train-per-time': 34.6083153883617,\n",
      " 'valid-accuracy': 70.70666666259766,\n",
      " 'valid-all-time': 214.04098045258192,\n",
      " 'valid-loss': 1.3654081104278564,\n",
      " 'valid-per-time': 1.0702049022629097,\n",
      " 'valtest-accuracy': 70.90666666666667,\n",
      " 'valtest-all-time': 428.08196090516384,\n",
      " 'valtest-loss': 1.3597248032251994,\n",
      " 'valtest-per-time': 2.1404098045258193}\n",
      "Its performance on ImageNet16-120 with 12-epoch-training\n",
      "[2022-12-08 18:26:35] Call the get_more_info function with index=1462, dataset=ImageNet16-120, iepoch=None, hp=12, and is_random=False.\n",
      "[2022-12-08 18:26:35] Call query_index_by_arch with arch=1462\n",
      "[2022-12-08 18:26:35] Call _prepare_info with index=1462 skip because it is in arch2infos_dict\n",
      "{'test-accuracy': 22.39999992879232,\n",
      " 'test-all-time': 7.7054752962929856,\n",
      " 'test-loss': 3.1626377182006835,\n",
      " 'test-per-time': 0.6421229413577488,\n",
      " 'train-accuracy': 21.68885959195242,\n",
      " 'train-all-time': 1260.0195466594694,\n",
      " 'train-loss': 3.1863493608815463,\n",
      " 'train-per-time': 105.00162888828912,\n",
      " 'valid-accuracy': 23.266666631062826,\n",
      " 'valid-all-time': 7.7054752962929856,\n",
      " 'valid-loss': 3.1219845104217527,\n",
      " 'valid-per-time': 0.6421229413577488,\n",
      " 'valtest-accuracy': 22.833333323160808,\n",
      " 'valtest-all-time': 15.410950592585971,\n",
      " 'valtest-loss': 3.142311067581177,\n",
      " 'valtest-per-time': 1.2842458827154977}\n",
      "Its performance on ImageNet16-120 with 200-epoch-training\n",
      "[2022-12-08 18:26:35] Call the get_more_info function with index=1462, dataset=ImageNet16-120, iepoch=None, hp=200, and is_random=False.\n",
      "[2022-12-08 18:26:35] Call query_index_by_arch with arch=1462\n",
      "[2022-12-08 18:26:35] Call _prepare_info with index=1462 skip because it is in arch2infos_dict\n",
      "{'test-accuracy': 41.44444444783529,\n",
      " 'test-all-time': 128.4245882715503,\n",
      " 'test-loss': 2.3114658287896046,\n",
      " 'test-per-time': 0.6421229413577515,\n",
      " 'train-accuracy': 50.604262800759415,\n",
      " 'train-all-time': 21000.325777657865,\n",
      " 'train-loss': 1.8626367051877495,\n",
      " 'train-per-time': 105.00162888828932,\n",
      " 'valid-accuracy': 40.777777659098305,\n",
      " 'valid-all-time': 128.4245882715503,\n",
      " 'valid-loss': 2.3157107713487415,\n",
      " 'valid-per-time': 0.6421229413577515,\n",
      " 'valtest-accuracy': 41.11111109754774,\n",
      " 'valtest-all-time': 256.8491765431006,\n",
      " 'valtest-loss': 2.313588462617662,\n",
      " 'valtest-per-time': 1.284245882715503}\n"
     ]
    }
   ],
   "source": [
    "# query the largest model's performance\n",
    "largest_candidate_tss = '|nor_conv_3x3~0|+|nor_conv_3x3~0|nor_conv_3x3~1|+|nor_conv_3x3~0|nor_conv_3x3~1|nor_conv_3x3~2|'\n",
    "arch_index = api.query_index_by_arch(largest_candidate_tss)\n",
    "print('The architecture-index for the largest model is {:}'.format(arch_index))\n",
    "datasets = ('cifar10', 'cifar100', 'ImageNet16-120')\n",
    "for dataset in datasets:\n",
    "    print('Its performance on {:} with 12-epoch-training'.format(dataset))\n",
    "    info = api.get_more_info(arch_index, dataset, hp='12', is_random=False)\n",
    "    pprint(info)\n",
    "    print('Its performance on {:} with 200-epoch-training'.format(dataset))\n",
    "    info = api.get_more_info(arch_index, dataset, hp='200', is_random=False)\n",
    "    pprint(info)"
   ]
  },
  {
   "cell_type": "code",
   "execution_count": null,
   "metadata": {},
   "outputs": [],
   "source": [
    "# Find the best architecture on CIFAR-10 validation set\n",
    "api.verbose = False\n",
    "best_arch_index, highest_valid_accuracy = api.find_best(dataset='cifar10-valid', metric_on_set='x-valid', hp='12')\n",
    "print('{:} The best architecture on CIFAR-10 validation set with 12-epoch training is: [{:}] {:}'.format(\n",
    "    nats_bench.api_utils.time_string(), best_arch_index, api.arch(best_arch_index)))"
   ]
  }
 ],
 "metadata": {
  "kernelspec": {
   "display_name": "Python 3.10.8 ('env_nas')",
   "language": "python",
   "name": "python3"
  },
  "language_info": {
   "codemirror_mode": {
    "name": "ipython",
    "version": 3
   },
   "file_extension": ".py",
   "mimetype": "text/x-python",
   "name": "python",
   "nbconvert_exporter": "python",
   "pygments_lexer": "ipython3",
   "version": "3.10.8"
  },
  "orig_nbformat": 4,
  "vscode": {
   "interpreter": {
    "hash": "02dda77fde2f5b64010ded9cd0070cfe652ad9c7635d9c77e2a3d239aa7b49de"
   }
  }
 },
 "nbformat": 4,
 "nbformat_minor": 2
}
